{
 "cells": [
  {
   "cell_type": "markdown",
   "id": "47b03f59",
   "metadata": {},
   "source": [
    "## Import modules"
   ]
  },
  {
   "cell_type": "code",
   "execution_count": 8,
   "id": "94efdca3",
   "metadata": {},
   "outputs": [],
   "source": [
    "import findspark\n",
    "\n",
    "findspark.init()\n",
    "\n",
    "import pyspark\n",
    "from pyspark.sql import SparkSession\n",
    "import pyodbc\n",
    "import pandas as pd"
   ]
  },
  {
   "cell_type": "code",
   "execution_count": 9,
   "id": "1bdb35e8",
   "metadata": {},
   "outputs": [],
   "source": [
    "spark = SparkSession.builder.appName(\"SSMS to PySpark\").getOrCreate()"
   ]
  },
  {
   "cell_type": "markdown",
   "id": "ebd73b4d",
   "metadata": {},
   "source": [
    "## Connecting with SSMS"
   ]
  },
  {
   "cell_type": "code",
   "execution_count": 10,
   "id": "c952ea06",
   "metadata": {},
   "outputs": [],
   "source": [
    "def connect_ssms():\n",
    "    conn = pyodbc.connect(\"Driver={SQL Server Native Client 11.0};\"\n",
    "                          \"Server=105857-001L\\SQLEXPRESS;\"\n",
    "                          \"Database=Retail;\"\n",
    "                          \"Trusted_Connection=yes;\")\n",
    "    return conn\n",
    "\n",
    "def customers(conn):\n",
    "    query = \"SELECT * FROM customers\"\n",
    "    df_pandas_customers = pd.read_sql(query, conn)\n",
    "    df_customers = spark.createDataFrame(df_pandas_customers)\n",
    "    return df_customers\n",
    "\n",
    "def order_items(conn):\n",
    "    query = \"SELECT * FROM order_items\"\n",
    "    df_pandas_order_items = pd.read_sql(query, conn)\n",
    "    df_order_items = spark.createDataFrame(df_pandas_order_items)\n",
    "    return df_order_items\n",
    "\n",
    "def orders(conn):\n",
    "    query = \"SELECT * FROM orders\"\n",
    "    df_pandas_orders = pd.read_sql(query, conn)\n",
    "    df_orders = spark.createDataFrame(df_pandas_orders)\n",
    "    return df_orders"
   ]
  },
  {
   "cell_type": "code",
   "execution_count": 11,
   "id": "0479e34b",
   "metadata": {},
   "outputs": [],
   "source": [
    "conn = connect_ssms()"
   ]
  },
  {
   "cell_type": "code",
   "execution_count": 12,
   "id": "2e4a089f",
   "metadata": {},
   "outputs": [
    {
     "name": "stderr",
     "output_type": "stream",
     "text": [
      "C:\\Users\\Vidushraj_105857\\AppData\\Local\\Temp\\ipykernel_6156\\3341507325.py:10: UserWarning: pandas only supports SQLAlchemy connectable (engine/connection) or database string URI or sqlite3 DBAPI2 connection. Other DBAPI2 objects are not tested. Please consider using SQLAlchemy.\n",
      "  df_pandas_customers = pd.read_sql(query, conn)\n",
      "C:\\Anaconda\\envs\\python-dev\\lib\\site-packages\\pyspark\\sql\\pandas\\conversion.py:485: FutureWarning: is_datetime64tz_dtype is deprecated and will be removed in a future version. Check `isinstance(dtype, pd.DatetimeTZDtype)` instead.\n",
      "  if should_localize and is_datetime64tz_dtype(s.dtype) and s.dt.tz is not None:\n",
      "C:\\Users\\Vidushraj_105857\\AppData\\Local\\Temp\\ipykernel_6156\\3341507325.py:16: UserWarning: pandas only supports SQLAlchemy connectable (engine/connection) or database string URI or sqlite3 DBAPI2 connection. Other DBAPI2 objects are not tested. Please consider using SQLAlchemy.\n",
      "  df_pandas_order_items = pd.read_sql(query, conn)\n",
      "C:\\Users\\Vidushraj_105857\\AppData\\Local\\Temp\\ipykernel_6156\\3341507325.py:22: UserWarning: pandas only supports SQLAlchemy connectable (engine/connection) or database string URI or sqlite3 DBAPI2 connection. Other DBAPI2 objects are not tested. Please consider using SQLAlchemy.\n",
      "  df_pandas_orders = pd.read_sql(query, conn)\n"
     ]
    }
   ],
   "source": [
    "df_customers = customers(conn)\n",
    "df_order_items = order_items(conn)\n",
    "df_orders = orders(conn)"
   ]
  },
  {
   "cell_type": "code",
   "execution_count": 15,
   "id": "498e9343",
   "metadata": {},
   "outputs": [
    {
     "name": "stdout",
     "output_type": "stream",
     "text": [
      "+-----------+--------------+--------------+--------------+-----------------+-----------------------+-------------+--------------+----------------+\n",
      "|customer_id|customer_fname|customer_lname|customer_email|customer_password|customer_street        |customer_city|customer_state|customer_zipcode|\n",
      "+-----------+--------------+--------------+--------------+-----------------+-----------------------+-------------+--------------+----------------+\n",
      "|1          |Richard       |Hernandez     |XXXXXXXXX     |XXXXXXXXX        |6303 Heather Plaza     |Brownsville  |TX            |78521           |\n",
      "|2          |Mary          |Barrett       |XXXXXXXXX     |XXXXXXXXX        |9526 Noble Embers Ridge|Littleton    |CO            |80126           |\n",
      "|3          |Ann           |Smith         |XXXXXXXXX     |XXXXXXXXX        |3422 Blue Pioneer Bend |Caguas       |PR            |725             |\n",
      "|4          |Mary          |Jones         |XXXXXXXXX     |XXXXXXXXX        |8324 Little Common     |San Marcos   |CA            |92069           |\n",
      "|5          |Robert        |Hudson        |XXXXXXXXX     |XXXXXXXXX        |10 Crystal River Mall  |Caguas       |PR            |725             |\n",
      "+-----------+--------------+--------------+--------------+-----------------+-----------------------+-------------+--------------+----------------+\n",
      "\n"
     ]
    }
   ],
   "source": [
    "df_customers.limit(5).show(truncate=False)"
   ]
  },
  {
   "cell_type": "code",
   "execution_count": 22,
   "id": "ed0ca79d",
   "metadata": {},
   "outputs": [
    {
     "name": "stdout",
     "output_type": "stream",
     "text": [
      "Number of rows: 12435\n",
      "Number of columns: 9\n"
     ]
    }
   ],
   "source": [
    "# Number of rows\n",
    "num_rows = df_customers.count()\n",
    "print(\"Number of rows:\", num_rows)\n",
    "\n",
    "# Number of columns\n",
    "num_columns = len(df_customers.columns)\n",
    "print(\"Number of columns:\", num_columns)"
   ]
  },
  {
   "cell_type": "code",
   "execution_count": 16,
   "id": "ccbc6e38",
   "metadata": {},
   "outputs": [
    {
     "name": "stdout",
     "output_type": "stream",
     "text": [
      "+-------------+-------------------+---------------------+-------------------+-------------------+------------------------+\n",
      "|order_item_id|order_item_order_id|order_item_product_id|order_item_quantity|order_item_subtotal|order_item_product_price|\n",
      "+-------------+-------------------+---------------------+-------------------+-------------------+------------------------+\n",
      "|28087        |11236              |1014                 |2                  |99.96              |49.98                   |\n",
      "|28088        |11237              |627                  |3                  |119.97             |39.99                   |\n",
      "|28089        |11238              |502                  |5                  |250.0              |50.0                    |\n",
      "|28090        |11239              |502                  |3                  |150.0              |50.0                    |\n",
      "|28091        |11241              |1014                 |3                  |149.94             |49.98                   |\n",
      "+-------------+-------------------+---------------------+-------------------+-------------------+------------------------+\n",
      "\n"
     ]
    }
   ],
   "source": [
    "df_order_items.limit(5).show(truncate=False)"
   ]
  },
  {
   "cell_type": "code",
   "execution_count": 23,
   "id": "d645add5",
   "metadata": {},
   "outputs": [
    {
     "name": "stdout",
     "output_type": "stream",
     "text": [
      "Number of rows: 172198\n",
      "Number of columns: 6\n"
     ]
    }
   ],
   "source": [
    "# Number of rows\n",
    "num_rows = df_order_items.count()\n",
    "print(\"Number of rows:\", num_rows)\n",
    "\n",
    "# Number of columns\n",
    "num_columns = len(df_order_items.columns)\n",
    "print(\"Number of columns:\", num_columns)"
   ]
  },
  {
   "cell_type": "code",
   "execution_count": 17,
   "id": "c3361e29",
   "metadata": {},
   "outputs": [
    {
     "name": "stdout",
     "output_type": "stream",
     "text": [
      "+--------+---------------------+-----------------+---------------+\n",
      "|order_id|order_date           |order_customer_id|order_status   |\n",
      "+--------+---------------------+-----------------+---------------+\n",
      "|1       |2013-07-25 00:00:00.0|11599            |CLOSED         |\n",
      "|2       |2013-07-25 00:00:00.0|256              |PENDING_PAYMENT|\n",
      "|3       |2013-07-25 00:00:00.0|12111            |COMPLETE       |\n",
      "|4       |2013-07-25 00:00:00.0|8827             |CLOSED         |\n",
      "|5       |2013-07-25 00:00:00.0|11318            |COMPLETE       |\n",
      "+--------+---------------------+-----------------+---------------+\n",
      "\n"
     ]
    }
   ],
   "source": [
    "df_orders.limit(5).show(truncate=False)"
   ]
  },
  {
   "cell_type": "code",
   "execution_count": 24,
   "id": "aab320e3",
   "metadata": {},
   "outputs": [
    {
     "name": "stdout",
     "output_type": "stream",
     "text": [
      "Number of rows: 68883\n",
      "Number of columns: 4\n"
     ]
    }
   ],
   "source": [
    "# Number of rows\n",
    "num_rows = df_orders.count()\n",
    "print(\"Number of rows:\", num_rows)\n",
    "\n",
    "# Number of columns\n",
    "num_columns = len(df_orders.columns)\n",
    "print(\"Number of columns:\", num_columns)"
   ]
  },
  {
   "cell_type": "markdown",
   "id": "5aba3852",
   "metadata": {},
   "source": [
    "## Inner join between customers and orders table"
   ]
  },
  {
   "cell_type": "code",
   "execution_count": 26,
   "id": "4f987aad",
   "metadata": {},
   "outputs": [],
   "source": [
    "customers_orders_df = df_customers.join(df_orders, on=df_customers['customer_id'] == df_orders['order_customer_id'])"
   ]
  },
  {
   "cell_type": "code",
   "execution_count": 27,
   "id": "a8964c3b",
   "metadata": {},
   "outputs": [
    {
     "name": "stdout",
     "output_type": "stream",
     "text": [
      "+-----------+--------------+--------------+--------------+-----------------+---------------------------+-------------+--------------+----------------+--------+---------------------+-----------------+--------------+\n",
      "|customer_id|customer_fname|customer_lname|customer_email|customer_password|customer_street            |customer_city|customer_state|customer_zipcode|order_id|order_date           |order_customer_id|order_status  |\n",
      "+-----------+--------------+--------------+--------------+-----------------+---------------------------+-------------+--------------+----------------+--------+---------------------+-----------------+--------------+\n",
      "|9993       |Mary          |Scott         |XXXXXXXXX     |XXXXXXXXX        |4148 Round Parkway         |Broken Arrow |OK            |74012           |154     |2013-07-26 00:00:00.0|9993             |ON_HOLD       |\n",
      "|5925       |Megan         |Bennett       |XXXXXXXXX     |XXXXXXXXX        |4411 Cinder Front          |Hempstead    |NY            |11550           |215     |2013-07-26 00:00:00.0|5925             |CLOSED        |\n",
      "|3414       |Ruth          |Smith         |XXXXXXXXX     |XXXXXXXXX        |2355 Velvet Hickory Crest  |Caguas       |PR            |725             |675     |2013-07-29 00:00:00.0|3414             |COMPLETE      |\n",
      "|7762       |Mary          |Roberson      |XXXXXXXXX     |XXXXXXXXX        |9891 Golden Panda Highlands|Brooklyn     |NY            |11209           |1158    |2013-07-31 00:00:00.0|7762             |PAYMENT_REVIEW|\n",
      "|5645       |Mary          |Villegas      |XXXXXXXXX     |XXXXXXXXX        |7377 Jagged Nook           |Oxnard       |CA            |93033           |1173    |2013-07-31 00:00:00.0|5645             |COMPLETE      |\n",
      "+-----------+--------------+--------------+--------------+-----------------+---------------------------+-------------+--------------+----------------+--------+---------------------+-----------------+--------------+\n",
      "\n"
     ]
    }
   ],
   "source": [
    "customers_orders_df.limit(5).show(truncate=False)"
   ]
  },
  {
   "cell_type": "code",
   "execution_count": 28,
   "id": "6d600a7b",
   "metadata": {},
   "outputs": [
    {
     "name": "stdout",
     "output_type": "stream",
     "text": [
      "Number of rows: 68883\n",
      "Number of columns: 13\n"
     ]
    }
   ],
   "source": [
    "# Number of rows\n",
    "num_rows = customers_orders_df.count()\n",
    "print(\"Number of rows:\", num_rows)\n",
    "\n",
    "# Number of columns\n",
    "num_columns = len(customers_orders_df.columns)\n",
    "print(\"Number of columns:\", num_columns)"
   ]
  },
  {
   "cell_type": "code",
   "execution_count": 29,
   "id": "8bf24609",
   "metadata": {},
   "outputs": [
    {
     "name": "stdout",
     "output_type": "stream",
     "text": [
      "+-----------+--------+--------------------+---------------+\n",
      "|customer_id|order_id|          order_date|   order_status|\n",
      "+-----------+--------+--------------------+---------------+\n",
      "|          1|   22945|2013-12-13 00:00:...|       COMPLETE|\n",
      "|         10|   45239|2014-05-01 00:00:...|       COMPLETE|\n",
      "|         10|   56133|2014-07-15 00:00:...|       COMPLETE|\n",
      "|        100|    6641|2013-09-05 00:00:...|       COMPLETE|\n",
      "|        100|   15045|2013-10-28 00:00:...|     PROCESSING|\n",
      "|        100|   22395|2013-12-09 00:00:...|       CANCELED|\n",
      "|        100|   28477|2014-01-16 00:00:...|       COMPLETE|\n",
      "|        100|   54995|2014-07-08 00:00:...|       COMPLETE|\n",
      "|        100|   62907|2014-02-06 00:00:...|PENDING_PAYMENT|\n",
      "|        100|   64426|2014-04-06 00:00:...|        PENDING|\n",
      "+-----------+--------+--------------------+---------------+\n",
      "only showing top 10 rows\n",
      "\n"
     ]
    }
   ],
   "source": [
    "customers_orders_df.selectExpr(\"customer_id\", \"order_id\", \"order_date\", \"order_status\").orderBy('customer_id').show(10)"
   ]
  },
  {
   "cell_type": "code",
   "execution_count": 30,
   "id": "d3bcafef",
   "metadata": {},
   "outputs": [],
   "source": [
    "from pyspark.sql.functions import struct"
   ]
  },
  {
   "cell_type": "code",
   "execution_count": 32,
   "id": "2ed7aa7b",
   "metadata": {},
   "outputs": [
    {
     "name": "stdout",
     "output_type": "stream",
     "text": [
      "+-----------+--------------------+\n",
      "|customer_id|       order_details|\n",
      "+-----------+--------------------+\n",
      "|          1|{22945, 2013-12-1...|\n",
      "|         10|{45239, 2014-05-0...|\n",
      "|         10|{56133, 2014-07-1...|\n",
      "|        100|{6641, 2013-09-05...|\n",
      "|        100|{15045, 2013-10-2...|\n",
      "|        100|{22395, 2013-12-0...|\n",
      "|        100|{28477, 2014-01-1...|\n",
      "|        100|{54995, 2014-07-0...|\n",
      "|        100|{62907, 2014-02-0...|\n",
      "|        100|{64426, 2014-04-0...|\n",
      "+-----------+--------------------+\n",
      "only showing top 10 rows\n",
      "\n"
     ]
    }
   ],
   "source": [
    "customers_orders_df.select('customer_id',struct('order_id','order_date','order_status').alias('order_details')).orderBy('customer_id').show(10)"
   ]
  },
  {
   "cell_type": "code",
   "execution_count": 33,
   "id": "9daed043",
   "metadata": {},
   "outputs": [],
   "source": [
    "customer_order_struct=customers_orders_df.select('customer_id',struct('order_id','order_date','order_status').alias('order_details'))"
   ]
  },
  {
   "cell_type": "code",
   "execution_count": 34,
   "id": "58e8ed97",
   "metadata": {},
   "outputs": [],
   "source": [
    "from pyspark.sql.functions import collect_list"
   ]
  },
  {
   "cell_type": "code",
   "execution_count": 35,
   "id": "8bd60999",
   "metadata": {},
   "outputs": [],
   "source": [
    "df_final = customer_order_struct.groupBy('customer_id').agg(collect_list('order_details').alias('order_details')).orderBy('customer_id')"
   ]
  },
  {
   "cell_type": "code",
   "execution_count": 37,
   "id": "2be44819",
   "metadata": {},
   "outputs": [
    {
     "name": "stdout",
     "output_type": "stream",
     "text": [
      "+-----------+------------------------------------------+\n",
      "|customer_id|order_details                             |\n",
      "+-----------+------------------------------------------+\n",
      "|1          |[{22945, 2013-12-13 00:00:00.0, COMPLETE}]|\n",
      "+-----------+------------------------------------------+\n",
      "only showing top 1 row\n",
      "\n"
     ]
    }
   ],
   "source": [
    "df_final.show(1, truncate=False)"
   ]
  },
  {
   "cell_type": "code",
   "execution_count": null,
   "id": "bac010c5",
   "metadata": {},
   "outputs": [],
   "source": [
    "#df_final.coalesce(1).write.json('final')"
   ]
  },
  {
   "cell_type": "markdown",
   "id": "5eb25c6d",
   "metadata": {},
   "source": [
    "## Denormalization for all 3 tables"
   ]
  },
  {
   "cell_type": "code",
   "execution_count": 44,
   "id": "3d4f8e1c",
   "metadata": {},
   "outputs": [],
   "source": [
    "# joining the tables\n",
    "customer_full_details = df_customers.\\\n",
    "join(df_orders, df_customers['customer_id']==df_orders['order_customer_id']).\\\n",
    "join(df_order_items, df_orders['order_id']==df_order_items['order_item_order_id'])"
   ]
  },
  {
   "cell_type": "code",
   "execution_count": 45,
   "id": "15a1daa0",
   "metadata": {},
   "outputs": [
    {
     "name": "stdout",
     "output_type": "stream",
     "text": [
      "+-----------+--------------+--------------+--------------+-----------------+-----------------+-------------+--------------+----------------+--------+---------------------+-----------------+------------+-------------+-------------------+---------------------+-------------------+-------------------+------------------------+\n",
      "|customer_id|customer_fname|customer_lname|customer_email|customer_password|customer_street  |customer_city|customer_state|customer_zipcode|order_id|order_date           |order_customer_id|order_status|order_item_id|order_item_order_id|order_item_product_id|order_item_quantity|order_item_subtotal|order_item_product_price|\n",
      "+-----------+--------------+--------------+--------------+-----------------+-----------------+-------------+--------------+----------------+--------+---------------------+-----------------+------------+-------------+-------------------+---------------------+-------------------+-------------------+------------------------+\n",
      "|3872       |Lisa          |Smith         |XXXXXXXXX     |XXXXXXXXX        |1023 Rocky Hollow|Caguas       |PR            |725             |10010   |2013-09-25 00:00:00.0|3872             |COMPLETE    |25002        |10010              |365                  |5                  |299.95             |59.99                   |\n",
      "|3872       |Lisa          |Smith         |XXXXXXXXX     |XXXXXXXXX        |1023 Rocky Hollow|Caguas       |PR            |725             |10010   |2013-09-25 00:00:00.0|3872             |COMPLETE    |25003        |10010              |403                  |1                  |129.99             |129.99                  |\n",
      "|3872       |Lisa          |Smith         |XXXXXXXXX     |XXXXXXXXX        |1023 Rocky Hollow|Caguas       |PR            |725             |10010   |2013-09-25 00:00:00.0|3872             |COMPLETE    |25004        |10010              |403                  |1                  |129.99             |129.99                  |\n",
      "+-----------+--------------+--------------+--------------+-----------------+-----------------+-------------+--------------+----------------+--------+---------------------+-----------------+------------+-------------+-------------------+---------------------+-------------------+-------------------+------------------------+\n",
      "only showing top 3 rows\n",
      "\n"
     ]
    }
   ],
   "source": [
    "customer_full_details.show(3, truncate=False)"
   ]
  },
  {
   "cell_type": "code",
   "execution_count": 50,
   "id": "d18e3aa5",
   "metadata": {},
   "outputs": [],
   "source": [
    "denorm_df=customer_full_details. \\\n",
    "select('customer_id','customer_fname','customer_lname','order_id','order_date','order_status',struct('order_item_id','order_item_product_id','order_item_subtotal').alias('order_item_details')). \\\n",
    "groupBy('customer_id','customer_fname','customer_lname','order_id','order_date','order_status'). \\\n",
    "agg(collect_list('order_item_details').alias('order_item_details')). \\\n",
    "orderBy('customer_id'). \\\n",
    "select('customer_id','customer_fname','customer_lname',struct('order_id','order_date','order_status','order_item_details').alias('order_details')). \\\n",
    "groupBy('customer_id','customer_fname','customer_lname'). \\\n",
    "agg(collect_list('order_details').alias('order_details')). \\\n",
    "orderBy('customer_id')"
   ]
  },
  {
   "cell_type": "code",
   "execution_count": 51,
   "id": "98af3858",
   "metadata": {},
   "outputs": [
    {
     "name": "stdout",
     "output_type": "stream",
     "text": [
      "+-----------+--------------+--------------+--------------------+\n",
      "|customer_id|customer_fname|customer_lname|       order_details|\n",
      "+-----------+--------------+--------------+--------------------+\n",
      "|          1|       Richard|     Hernandez|[{22945, 2013-12-...|\n",
      "|         10|       Melissa|         Smith|[{45239, 2014-05-...|\n",
      "|        100|        George|       Barrett|[{54995, 2014-07-...|\n",
      "+-----------+--------------+--------------+--------------------+\n",
      "only showing top 3 rows\n",
      "\n"
     ]
    }
   ],
   "source": [
    "denorm_df.show(3)"
   ]
  },
  {
   "cell_type": "code",
   "execution_count": null,
   "id": "45c3abfe",
   "metadata": {},
   "outputs": [],
   "source": []
  }
 ],
 "metadata": {
  "kernelspec": {
   "display_name": "Python 3 (ipykernel)",
   "language": "python",
   "name": "python3"
  },
  "language_info": {
   "codemirror_mode": {
    "name": "ipython",
    "version": 3
   },
   "file_extension": ".py",
   "mimetype": "text/x-python",
   "name": "python",
   "nbconvert_exporter": "python",
   "pygments_lexer": "ipython3",
   "version": "3.9.18"
  }
 },
 "nbformat": 4,
 "nbformat_minor": 5
}
